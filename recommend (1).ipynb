{
  "nbformat": 4,
  "nbformat_minor": 0,
  "metadata": {
    "colab": {
      "name": "recommend.ipynb",
      "provenance": [],
      "toc_visible": true
    },
    "kernelspec": {
      "name": "python3",
      "display_name": "Python 3"
    },
    "widgets": {
      "application/vnd.jupyter.widget-state+json": {
        "e6e82ba50ecc4310b69bcdb9de2644e2": {
          "model_module": "@jupyter-widgets/controls",
          "model_name": "HBoxModel",
          "state": {
            "_view_name": "HBoxView",
            "_dom_classes": [],
            "_model_name": "HBoxModel",
            "_view_module": "@jupyter-widgets/controls",
            "_model_module_version": "1.5.0",
            "_view_count": null,
            "_view_module_version": "1.5.0",
            "box_style": "",
            "layout": "IPY_MODEL_48d8dec387574ff2a5147c5f9c10c796",
            "_model_module": "@jupyter-widgets/controls",
            "children": [
              "IPY_MODEL_f0b57481070d44f89a3317ea5e6b5afd",
              "IPY_MODEL_e5bf7a2466b84106ad89fa279ad63dd3"
            ]
          }
        },
        "48d8dec387574ff2a5147c5f9c10c796": {
          "model_module": "@jupyter-widgets/base",
          "model_name": "LayoutModel",
          "state": {
            "_view_name": "LayoutView",
            "grid_template_rows": null,
            "right": null,
            "justify_content": null,
            "_view_module": "@jupyter-widgets/base",
            "overflow": null,
            "_model_module_version": "1.2.0",
            "_view_count": null,
            "flex_flow": null,
            "width": null,
            "min_width": null,
            "border": null,
            "align_items": null,
            "bottom": null,
            "_model_module": "@jupyter-widgets/base",
            "top": null,
            "grid_column": null,
            "overflow_y": null,
            "overflow_x": null,
            "grid_auto_flow": null,
            "grid_area": null,
            "grid_template_columns": null,
            "flex": null,
            "_model_name": "LayoutModel",
            "justify_items": null,
            "grid_row": null,
            "max_height": null,
            "align_content": null,
            "visibility": null,
            "align_self": null,
            "height": null,
            "min_height": null,
            "padding": null,
            "grid_auto_rows": null,
            "grid_gap": null,
            "max_width": null,
            "order": null,
            "_view_module_version": "1.2.0",
            "grid_template_areas": null,
            "object_position": null,
            "object_fit": null,
            "grid_auto_columns": null,
            "margin": null,
            "display": null,
            "left": null
          }
        },
        "f0b57481070d44f89a3317ea5e6b5afd": {
          "model_module": "@jupyter-widgets/controls",
          "model_name": "FloatProgressModel",
          "state": {
            "_view_name": "ProgressView",
            "style": "IPY_MODEL_f6e99bc778f74ca89bbddc8e25c8a0d8",
            "_dom_classes": [],
            "description": "100%",
            "_model_name": "FloatProgressModel",
            "bar_style": "success",
            "max": 10000,
            "_view_module": "@jupyter-widgets/controls",
            "_model_module_version": "1.5.0",
            "value": 10000,
            "_view_count": null,
            "_view_module_version": "1.5.0",
            "orientation": "horizontal",
            "min": 0,
            "description_tooltip": null,
            "_model_module": "@jupyter-widgets/controls",
            "layout": "IPY_MODEL_9e599f65a89a4c4b8f6dd97520da7bc4"
          }
        },
        "e5bf7a2466b84106ad89fa279ad63dd3": {
          "model_module": "@jupyter-widgets/controls",
          "model_name": "HTMLModel",
          "state": {
            "_view_name": "HTMLView",
            "style": "IPY_MODEL_856bc439d5d24c8fbd9258b8ac53f6e4",
            "_dom_classes": [],
            "description": "",
            "_model_name": "HTMLModel",
            "placeholder": "​",
            "_view_module": "@jupyter-widgets/controls",
            "_model_module_version": "1.5.0",
            "value": " 10000/10000 [08:57&lt;00:00, 18.62it/s]",
            "_view_count": null,
            "_view_module_version": "1.5.0",
            "description_tooltip": null,
            "_model_module": "@jupyter-widgets/controls",
            "layout": "IPY_MODEL_1818834f65a145829cb2e0a1f5a7a191"
          }
        },
        "f6e99bc778f74ca89bbddc8e25c8a0d8": {
          "model_module": "@jupyter-widgets/controls",
          "model_name": "ProgressStyleModel",
          "state": {
            "_view_name": "StyleView",
            "_model_name": "ProgressStyleModel",
            "description_width": "initial",
            "_view_module": "@jupyter-widgets/base",
            "_model_module_version": "1.5.0",
            "_view_count": null,
            "_view_module_version": "1.2.0",
            "bar_color": null,
            "_model_module": "@jupyter-widgets/controls"
          }
        },
        "9e599f65a89a4c4b8f6dd97520da7bc4": {
          "model_module": "@jupyter-widgets/base",
          "model_name": "LayoutModel",
          "state": {
            "_view_name": "LayoutView",
            "grid_template_rows": null,
            "right": null,
            "justify_content": null,
            "_view_module": "@jupyter-widgets/base",
            "overflow": null,
            "_model_module_version": "1.2.0",
            "_view_count": null,
            "flex_flow": null,
            "width": null,
            "min_width": null,
            "border": null,
            "align_items": null,
            "bottom": null,
            "_model_module": "@jupyter-widgets/base",
            "top": null,
            "grid_column": null,
            "overflow_y": null,
            "overflow_x": null,
            "grid_auto_flow": null,
            "grid_area": null,
            "grid_template_columns": null,
            "flex": null,
            "_model_name": "LayoutModel",
            "justify_items": null,
            "grid_row": null,
            "max_height": null,
            "align_content": null,
            "visibility": null,
            "align_self": null,
            "height": null,
            "min_height": null,
            "padding": null,
            "grid_auto_rows": null,
            "grid_gap": null,
            "max_width": null,
            "order": null,
            "_view_module_version": "1.2.0",
            "grid_template_areas": null,
            "object_position": null,
            "object_fit": null,
            "grid_auto_columns": null,
            "margin": null,
            "display": null,
            "left": null
          }
        },
        "856bc439d5d24c8fbd9258b8ac53f6e4": {
          "model_module": "@jupyter-widgets/controls",
          "model_name": "DescriptionStyleModel",
          "state": {
            "_view_name": "StyleView",
            "_model_name": "DescriptionStyleModel",
            "description_width": "",
            "_view_module": "@jupyter-widgets/base",
            "_model_module_version": "1.5.0",
            "_view_count": null,
            "_view_module_version": "1.2.0",
            "_model_module": "@jupyter-widgets/controls"
          }
        },
        "1818834f65a145829cb2e0a1f5a7a191": {
          "model_module": "@jupyter-widgets/base",
          "model_name": "LayoutModel",
          "state": {
            "_view_name": "LayoutView",
            "grid_template_rows": null,
            "right": null,
            "justify_content": null,
            "_view_module": "@jupyter-widgets/base",
            "overflow": null,
            "_model_module_version": "1.2.0",
            "_view_count": null,
            "flex_flow": null,
            "width": null,
            "min_width": null,
            "border": null,
            "align_items": null,
            "bottom": null,
            "_model_module": "@jupyter-widgets/base",
            "top": null,
            "grid_column": null,
            "overflow_y": null,
            "overflow_x": null,
            "grid_auto_flow": null,
            "grid_area": null,
            "grid_template_columns": null,
            "flex": null,
            "_model_name": "LayoutModel",
            "justify_items": null,
            "grid_row": null,
            "max_height": null,
            "align_content": null,
            "visibility": null,
            "align_self": null,
            "height": null,
            "min_height": null,
            "padding": null,
            "grid_auto_rows": null,
            "grid_gap": null,
            "max_width": null,
            "order": null,
            "_view_module_version": "1.2.0",
            "grid_template_areas": null,
            "object_position": null,
            "object_fit": null,
            "grid_auto_columns": null,
            "margin": null,
            "display": null,
            "left": null
          }
        }
      }
    }
  },
  "cells": [
    {
      "cell_type": "code",
      "metadata": {
        "id": "c6pwfQIfl2ua"
      },
      "source": [
        "import pandas as pd\n",
        "a = \"https://firebasestorage.googleapis.com/v0/b/aarambh-aider.appspot.com/o/images%2FoutputFinal.csv?alt=media\"\n",
        "data = pd.read_csv(a, sep=\"\\t\")"
      ],
      "execution_count": 1,
      "outputs": []
    },
    {
      "cell_type": "code",
      "metadata": {
        "id": "W7iQB-LKmULr",
        "outputId": "bc7e64c4-ad02-4461-c218-e93efbd953f3",
        "colab": {
          "base_uri": "https://localhost:8080/",
          "height": 187
        }
      },
      "source": [
        "import nltk \n",
        "nltk.download('punkt') \n",
        "nltk.download('averaged_perceptron_tagger') \n",
        "nltk.download('wordnet') \n",
        "\n",
        "\n",
        "from nltk.stem import WordNetLemmatizer \n",
        "lemmatizer = WordNetLemmatizer() \n",
        "\n",
        "from nltk.corpus import stopwords \n",
        "nltk.download('stopwords') \n",
        "stop_words = set(stopwords.words('english')) \n",
        "\n",
        "VERB_CODES = {'VB', 'VBD', 'VBG', 'VBN', 'VBP', 'VBZ'} "
      ],
      "execution_count": 2,
      "outputs": [
        {
          "output_type": "stream",
          "text": [
            "[nltk_data] Downloading package punkt to /root/nltk_data...\n",
            "[nltk_data]   Package punkt is already up-to-date!\n",
            "[nltk_data] Downloading package averaged_perceptron_tagger to\n",
            "[nltk_data]     /root/nltk_data...\n",
            "[nltk_data]   Package averaged_perceptron_tagger is already up-to-\n",
            "[nltk_data]       date!\n",
            "[nltk_data] Downloading package wordnet to /root/nltk_data...\n",
            "[nltk_data]   Package wordnet is already up-to-date!\n",
            "[nltk_data] Downloading package stopwords to /root/nltk_data...\n",
            "[nltk_data]   Package stopwords is already up-to-date!\n"
          ],
          "name": "stdout"
        }
      ]
    },
    {
      "cell_type": "code",
      "metadata": {
        "id": "HJ5t78Bkmi2R"
      },
      "source": [
        "def preprocess_sentences(text): \n",
        "  text = text.lower() \n",
        "  temp_sent =[] \n",
        "  words = nltk.word_tokenize(text) \n",
        "  tags = nltk.pos_tag(words) \n",
        "  for i, word in enumerate(words): \n",
        "      if tags[i][1] in VERB_CODES:  \n",
        "          lemmatized = lemmatizer.lemmatize(word, 'v') \n",
        "      else: \n",
        "          lemmatized = lemmatizer.lemmatize(word) \n",
        "      if lemmatized not in stop_words and lemmatized.isalpha(): \n",
        "          temp_sent.append(lemmatized) \n",
        "          \n",
        "  finalsent = ' '.join(temp_sent) \n",
        "  finalsent = finalsent.replace(\"n't\", \" not\") \n",
        "  finalsent = finalsent.replace(\"'m\", \" am\") \n",
        "  finalsent = finalsent.replace(\"'s\", \" is\") \n",
        "  finalsent = finalsent.replace(\"'re\", \" are\") \n",
        "  finalsent = finalsent.replace(\"'ll\", \" will\") \n",
        "  finalsent = finalsent.replace(\"'ve\", \" have\") \n",
        "  finalsent = finalsent.replace(\"'d\", \" would\") \n",
        "  return finalsent "
      ],
      "execution_count": 3,
      "outputs": []
    },
    {
      "cell_type": "code",
      "metadata": {
        "id": "dpJL7O3wmoTU",
        "outputId": "1b2e97e3-4740-497b-fb3f-28865112d23a",
        "colab": {
          "base_uri": "https://localhost:8080/",
          "height": 390
        }
      },
      "source": [
        "data = data.set_index(\"Title\")\n",
        "data.head(10)"
      ],
      "execution_count": 4,
      "outputs": [
        {
          "output_type": "execute_result",
          "data": {
            "text/html": [
              "<div>\n",
              "<style scoped>\n",
              "    .dataframe tbody tr th:only-of-type {\n",
              "        vertical-align: middle;\n",
              "    }\n",
              "\n",
              "    .dataframe tbody tr th {\n",
              "        vertical-align: top;\n",
              "    }\n",
              "\n",
              "    .dataframe thead th {\n",
              "        text-align: right;\n",
              "    }\n",
              "</style>\n",
              "<table border=\"1\" class=\"dataframe\">\n",
              "  <thead>\n",
              "    <tr style=\"text-align: right;\">\n",
              "      <th></th>\n",
              "      <th>Plot</th>\n",
              "      <th>Poster</th>\n",
              "      <th>Processed</th>\n",
              "    </tr>\n",
              "    <tr>\n",
              "      <th>Title</th>\n",
              "      <th></th>\n",
              "      <th></th>\n",
              "      <th></th>\n",
              "    </tr>\n",
              "  </thead>\n",
              "  <tbody>\n",
              "    <tr>\n",
              "      <th>Kansas Saloon Smashers</th>\n",
              "      <td>A bartender is working at a saloon, serving dr...</td>\n",
              "      <td>0</td>\n",
              "      <td>bartender work saloon serve drink customer fil...</td>\n",
              "    </tr>\n",
              "    <tr>\n",
              "      <th>Love by the Light of the Moon</th>\n",
              "      <td>The moon, painted with a smiling face hangs ov...</td>\n",
              "      <td>0</td>\n",
              "      <td>moon paint smile face hang park night young co...</td>\n",
              "    </tr>\n",
              "    <tr>\n",
              "      <th>The Martyred Presidents</th>\n",
              "      <td>The film, just over a minute long, is composed...</td>\n",
              "      <td>0</td>\n",
              "      <td>film minute long compose two shot first girl s...</td>\n",
              "    </tr>\n",
              "    <tr>\n",
              "      <th>Terrible Teddy, the Grizzly King</th>\n",
              "      <td>Lasting just 61 seconds and consisting of two ...</td>\n",
              "      <td>0</td>\n",
              "      <td>last second consist two shot first shot set wo...</td>\n",
              "    </tr>\n",
              "    <tr>\n",
              "      <th>Jack and the Beanstalk</th>\n",
              "      <td>The earliest known adaptation of the classic f...</td>\n",
              "      <td>0</td>\n",
              "      <td>earliest known adaptation classic fairytale fi...</td>\n",
              "    </tr>\n",
              "    <tr>\n",
              "      <th>Alice in Wonderland</th>\n",
              "      <td>Alice follows a large white rabbit down a \"Rab...</td>\n",
              "      <td>0</td>\n",
              "      <td>alice follow large white rabbit find tiny door...</td>\n",
              "    </tr>\n",
              "    <tr>\n",
              "      <th>The Great Train Robbery</th>\n",
              "      <td>The film opens with two bandits breaking into ...</td>\n",
              "      <td>0</td>\n",
              "      <td>film open two bandit break railroad telegraph ...</td>\n",
              "    </tr>\n",
              "    <tr>\n",
              "      <th>The Suburbanite</th>\n",
              "      <td>The film is about a family who move to the sub...</td>\n",
              "      <td>0</td>\n",
              "      <td>film family move suburb hop quiet life thing s...</td>\n",
              "    </tr>\n",
              "    <tr>\n",
              "      <th>The Little Train Robbery</th>\n",
              "      <td>The opening scene shows the interior of the ro...</td>\n",
              "      <td>0</td>\n",
              "      <td>opening scene show interior robber den wall de...</td>\n",
              "    </tr>\n",
              "    <tr>\n",
              "      <th>The Night Before Christmas</th>\n",
              "      <td>Scenes are introduced using lines of the poem....</td>\n",
              "      <td>0</td>\n",
              "      <td>scene introduce use line poem santa claus play...</td>\n",
              "    </tr>\n",
              "  </tbody>\n",
              "</table>\n",
              "</div>"
            ],
            "text/plain": [
              "                                                                               Plot  ...                                          Processed\n",
              "Title                                                                                ...                                                   \n",
              "Kansas Saloon Smashers            A bartender is working at a saloon, serving dr...  ...  bartender work saloon serve drink customer fil...\n",
              "Love by the Light of the Moon     The moon, painted with a smiling face hangs ov...  ...  moon paint smile face hang park night young co...\n",
              "The Martyred Presidents           The film, just over a minute long, is composed...  ...  film minute long compose two shot first girl s...\n",
              "Terrible Teddy, the Grizzly King  Lasting just 61 seconds and consisting of two ...  ...  last second consist two shot first shot set wo...\n",
              "Jack and the Beanstalk            The earliest known adaptation of the classic f...  ...  earliest known adaptation classic fairytale fi...\n",
              "Alice in Wonderland               Alice follows a large white rabbit down a \"Rab...  ...  alice follow large white rabbit find tiny door...\n",
              "The Great Train Robbery           The film opens with two bandits breaking into ...  ...  film open two bandit break railroad telegraph ...\n",
              "The Suburbanite                   The film is about a family who move to the sub...  ...  film family move suburb hop quiet life thing s...\n",
              "The Little Train Robbery          The opening scene shows the interior of the ro...  ...  opening scene show interior robber den wall de...\n",
              "The Night Before Christmas        Scenes are introduced using lines of the poem....  ...  scene introduce use line poem santa claus play...\n",
              "\n",
              "[10 rows x 3 columns]"
            ]
          },
          "metadata": {
            "tags": []
          },
          "execution_count": 4
        }
      ]
    },
    {
      "cell_type": "code",
      "metadata": {
        "id": "WpQaEG8AmyTV"
      },
      "source": [
        "from sklearn.feature_extraction.text import TfidfVectorizer \n",
        "data[\"Processed\"] = data[\"Processed\"].fillna(\"\")\n",
        "# Vectorizing pre-processed movie plots using TF-IDF \n",
        "tfidfvec = TfidfVectorizer() \n",
        "tfidf_movieid = tfidfvec.fit_transform((data[\"Processed\"]))"
      ],
      "execution_count": 5,
      "outputs": []
    },
    {
      "cell_type": "code",
      "metadata": {
        "id": "MkKQ3yzT4KZ3"
      },
      "source": [
        "di = {}"
      ],
      "execution_count": 6,
      "outputs": []
    },
    {
      "cell_type": "code",
      "metadata": {
        "id": "5Nddx5Xd5Co_",
        "outputId": "d3b420d6-dd5d-4908-d649-c5b72c5df17b",
        "colab": {
          "base_uri": "https://localhost:8080/",
          "height": 34
        }
      },
      "source": [
        "tfidf_movieid.getrow(0).toarray().reshape(1, -1)"
      ],
      "execution_count": 16,
      "outputs": [
        {
          "output_type": "execute_result",
          "data": {
            "text/plain": [
              "array([[0., 0., 0., ..., 0., 0., 0.]])"
            ]
          },
          "metadata": {
            "tags": []
          },
          "execution_count": 16
        }
      ]
    },
    {
      "cell_type": "code",
      "metadata": {
        "id": "svt5p7-T7ciH"
      },
      "source": [
        "# !pip install progressbar\n",
        "# from progressbar import ProgressBar\n",
        "# pbar = ProgressBar()\n",
        "from tqdm import tqdm_notebook as tqdm"
      ],
      "execution_count": 8,
      "outputs": []
    },
    {
      "cell_type": "code",
      "metadata": {
        "id": "CgFHImtum96p",
        "outputId": "cb4c4ac4-74e5-4a76-a842-b96b007ecd4d",
        "colab": {
          "base_uri": "https://localhost:8080/",
          "height": 117,
          "referenced_widgets": [
            "e6e82ba50ecc4310b69bcdb9de2644e2",
            "48d8dec387574ff2a5147c5f9c10c796",
            "f0b57481070d44f89a3317ea5e6b5afd",
            "e5bf7a2466b84106ad89fa279ad63dd3",
            "f6e99bc778f74ca89bbddc8e25c8a0d8",
            "9e599f65a89a4c4b8f6dd97520da7bc4",
            "856bc439d5d24c8fbd9258b8ac53f6e4",
            "1818834f65a145829cb2e0a1f5a7a191"
          ]
        }
      },
      "source": [
        "# Finding cosine similarity between vectors \n",
        "from sklearn.metrics.pairwise import cosine_similarity\n",
        "\n",
        "\n",
        "\n",
        "for i in tqdm(list(range(10000))):\n",
        "  cos_sim = cosine_similarity(tfidf_movieid, tfidf_movieid.getrow(i).toarray().reshape(1, -1))\n",
        "  di[\"index\"+str(i)] = cos_sim.flatten().argsort()[::-1] "
      ],
      "execution_count": 14,
      "outputs": [
        {
          "output_type": "stream",
          "text": [
            "/usr/local/lib/python3.6/dist-packages/ipykernel_launcher.py:6: TqdmDeprecationWarning: This function will be removed in tqdm==5.0.0\n",
            "Please use `tqdm.notebook.tqdm` instead of `tqdm.tqdm_notebook`\n",
            "  \n"
          ],
          "name": "stderr"
        },
        {
          "output_type": "display_data",
          "data": {
            "application/vnd.jupyter.widget-view+json": {
              "model_id": "e6e82ba50ecc4310b69bcdb9de2644e2",
              "version_minor": 0,
              "version_major": 2
            },
            "text/plain": [
              "HBox(children=(FloatProgress(value=0.0, max=10000.0), HTML(value='')))"
            ]
          },
          "metadata": {
            "tags": []
          }
        },
        {
          "output_type": "stream",
          "text": [
            "\n"
          ],
          "name": "stdout"
        }
      ]
    },
    {
      "cell_type": "code",
      "metadata": {
        "id": "ViwvURdSEswX"
      },
      "source": [
        "import pickle\n",
        "with open('data.p', 'wb') as fp:\n",
        "  pickle.dump(di, fp, protocol=pickle.HIGHEST_PROTOCOL)"
      ],
      "execution_count": 15,
      "outputs": []
    }
  ]
}