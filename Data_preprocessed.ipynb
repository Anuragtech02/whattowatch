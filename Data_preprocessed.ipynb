{
 "cells": [
  {
   "cell_type": "code",
   "execution_count": 1,
   "metadata": {
    "id": "Pr_2d8obgfhs"
   },
   "outputs": [],
   "source": [
    "%matplotlib inline\n",
    "import numpy as np\n",
    "import pandas as pd\n",
    "import matplotlib.pyplot as plt"
   ]
  },
  {
   "cell_type": "code",
   "execution_count": 2,
   "metadata": {
    "colab": {
     "base_uri": "https://localhost:8080/",
     "height": 471
    },
    "id": "i4i3uwQwgfhy",
    "outputId": "a41fc97b-78b8-4553-ac91-70e519285147"
   },
   "outputs": [],
   "source": [
    "mov_df = pd.read_csv('wiki_movie_plots_deduped.csv')"
   ]
  },
  {
   "cell_type": "code",
   "execution_count": 3,
   "metadata": {
    "id": "YktFF94egfiR"
   },
   "outputs": [],
   "source": [
    "# Dropping the unknown categories\n",
    "mov_df2 = mov_df[~mov_df['Genre'].isin(['unknown'])]"
   ]
  },
  {
   "cell_type": "markdown",
   "metadata": {
    "id": "H3UmFKwYgfjQ"
   },
   "source": [
    "# Data Preprocessing"
   ]
  },
  {
   "cell_type": "code",
   "execution_count": 4,
   "metadata": {
    "id": "IDGzVw6rgfjR"
   },
   "outputs": [],
   "source": [
    "# we will use Title and plot of the movie to build the recommender system"
   ]
  },
  {
   "cell_type": "code",
   "execution_count": 5,
   "metadata": {
    "id": "XgTH-DpsgfjW"
   },
   "outputs": [
    {
     "data": {
      "text/html": [
       "<div>\n",
       "<style scoped>\n",
       "    .dataframe tbody tr th:only-of-type {\n",
       "        vertical-align: middle;\n",
       "    }\n",
       "\n",
       "    .dataframe tbody tr th {\n",
       "        vertical-align: top;\n",
       "    }\n",
       "\n",
       "    .dataframe thead th {\n",
       "        text-align: right;\n",
       "    }\n",
       "</style>\n",
       "<table border=\"1\" class=\"dataframe\">\n",
       "  <thead>\n",
       "    <tr style=\"text-align: right;\">\n",
       "      <th></th>\n",
       "      <th>Release Year</th>\n",
       "      <th>Title</th>\n",
       "      <th>Origin/Ethnicity</th>\n",
       "      <th>Director</th>\n",
       "      <th>Cast</th>\n",
       "      <th>Genre</th>\n",
       "      <th>Wiki Page</th>\n",
       "      <th>Plot</th>\n",
       "    </tr>\n",
       "  </thead>\n",
       "  <tbody>\n",
       "    <tr>\n",
       "      <th>6</th>\n",
       "      <td>1903</td>\n",
       "      <td>The Great Train Robbery</td>\n",
       "      <td>American</td>\n",
       "      <td>Edwin S. Porter</td>\n",
       "      <td>NaN</td>\n",
       "      <td>western</td>\n",
       "      <td>https://en.wikipedia.org/wiki/The_Great_Train_...</td>\n",
       "      <td>The film opens with two bandits breaking into ...</td>\n",
       "    </tr>\n",
       "    <tr>\n",
       "      <th>7</th>\n",
       "      <td>1904</td>\n",
       "      <td>The Suburbanite</td>\n",
       "      <td>American</td>\n",
       "      <td>Wallace McCutcheon</td>\n",
       "      <td>NaN</td>\n",
       "      <td>comedy</td>\n",
       "      <td>https://en.wikipedia.org/wiki/The_Suburbanite</td>\n",
       "      <td>The film is about a family who move to the sub...</td>\n",
       "    </tr>\n",
       "    <tr>\n",
       "      <th>10</th>\n",
       "      <td>1906</td>\n",
       "      <td>Dream of a Rarebit Fiend</td>\n",
       "      <td>American</td>\n",
       "      <td>Wallace McCutcheon and Edwin S. Porter</td>\n",
       "      <td>NaN</td>\n",
       "      <td>short</td>\n",
       "      <td>https://en.wikipedia.org/wiki/Dream_of_a_Rareb...</td>\n",
       "      <td>The Rarebit Fiend gorges on Welsh rarebit at a...</td>\n",
       "    </tr>\n",
       "    <tr>\n",
       "      <th>11</th>\n",
       "      <td>1906</td>\n",
       "      <td>From Leadville to Aspen: A Hold-Up in the Rockies</td>\n",
       "      <td>American</td>\n",
       "      <td>Francis J. Marion and Wallace McCutcheon</td>\n",
       "      <td>NaN</td>\n",
       "      <td>short action/crime western</td>\n",
       "      <td>https://en.wikipedia.org/wiki/From_Leadville_t...</td>\n",
       "      <td>The film features a train traveling through th...</td>\n",
       "    </tr>\n",
       "    <tr>\n",
       "      <th>12</th>\n",
       "      <td>1906</td>\n",
       "      <td>Kathleen Mavourneen</td>\n",
       "      <td>American</td>\n",
       "      <td>Edwin S. Porter</td>\n",
       "      <td>NaN</td>\n",
       "      <td>short film</td>\n",
       "      <td>https://en.wikipedia.org/wiki/Kathleen_Mavourn...</td>\n",
       "      <td>Irish villager Kathleen is a tenant of Captain...</td>\n",
       "    </tr>\n",
       "  </tbody>\n",
       "</table>\n",
       "</div>"
      ],
      "text/plain": [
       "    Release Year                                              Title  \\\n",
       "6           1903                            The Great Train Robbery   \n",
       "7           1904                                    The Suburbanite   \n",
       "10          1906                           Dream of a Rarebit Fiend   \n",
       "11          1906  From Leadville to Aspen: A Hold-Up in the Rockies   \n",
       "12          1906                                Kathleen Mavourneen   \n",
       "\n",
       "   Origin/Ethnicity                                  Director Cast  \\\n",
       "6          American                           Edwin S. Porter  NaN   \n",
       "7          American                        Wallace McCutcheon  NaN   \n",
       "10         American    Wallace McCutcheon and Edwin S. Porter  NaN   \n",
       "11         American  Francis J. Marion and Wallace McCutcheon  NaN   \n",
       "12         American                           Edwin S. Porter  NaN   \n",
       "\n",
       "                         Genre  \\\n",
       "6                      western   \n",
       "7                       comedy   \n",
       "10                       short   \n",
       "11  short action/crime western   \n",
       "12                  short film   \n",
       "\n",
       "                                            Wiki Page  \\\n",
       "6   https://en.wikipedia.org/wiki/The_Great_Train_...   \n",
       "7       https://en.wikipedia.org/wiki/The_Suburbanite   \n",
       "10  https://en.wikipedia.org/wiki/Dream_of_a_Rareb...   \n",
       "11  https://en.wikipedia.org/wiki/From_Leadville_t...   \n",
       "12  https://en.wikipedia.org/wiki/Kathleen_Mavourn...   \n",
       "\n",
       "                                                 Plot  \n",
       "6   The film opens with two bandits breaking into ...  \n",
       "7   The film is about a family who move to the sub...  \n",
       "10  The Rarebit Fiend gorges on Welsh rarebit at a...  \n",
       "11  The film features a train traveling through th...  \n",
       "12  Irish villager Kathleen is a tenant of Captain...  "
      ]
     },
     "execution_count": 5,
     "metadata": {},
     "output_type": "execute_result"
    }
   ],
   "source": [
    "mov_df2.head()"
   ]
  },
  {
   "cell_type": "code",
   "execution_count": 6,
   "metadata": {
    "id": "5OcCDD-WgfjZ"
   },
   "outputs": [
    {
     "data": {
      "text/plain": [
       "array(['American', 'Australian', 'Bangladeshi', 'British', 'Canadian',\n",
       "       'Chinese', 'Egyptian', 'Hong Kong', 'Filipino', 'Assamese',\n",
       "       'Bengali', 'Bollywood', 'Kannada', 'Malayalam', 'Marathi',\n",
       "       'Punjabi', 'Tamil', 'Telugu', 'Japanese', 'Malaysian', 'Maldivian',\n",
       "       'Russian', 'South_Korean', 'Turkish'], dtype=object)"
      ]
     },
     "execution_count": 6,
     "metadata": {},
     "output_type": "execute_result"
    }
   ],
   "source": [
    "mov_df2['Origin/Ethnicity'].unique()"
   ]
  },
  {
   "cell_type": "code",
   "execution_count": 7,
   "metadata": {
    "id": "-R7AFwq7gfjc"
   },
   "outputs": [],
   "source": [
    "# we will use only americans and british movies"
   ]
  },
  {
   "cell_type": "code",
   "execution_count": 8,
   "metadata": {
    "id": "o49X-hjMgfjg"
   },
   "outputs": [],
   "source": [
    "american = pd.DataFrame(mov_df2.loc[mov_df2['Origin/Ethnicity']=='American'])"
   ]
  },
  {
   "cell_type": "code",
   "execution_count": 9,
   "metadata": {
    "id": "Tfwa-3oOgfjj"
   },
   "outputs": [],
   "source": [
    "british = pd.DataFrame(mov_df2.loc[mov_df2['Origin/Ethnicity']=='British'])"
   ]
  },
  {
   "cell_type": "code",
   "execution_count": 10,
   "metadata": {
    "id": "Dpy6GYpCgfjn"
   },
   "outputs": [],
   "source": [
    "data = pd.concat([american, british])"
   ]
  },
  {
   "cell_type": "code",
   "execution_count": 11,
   "metadata": {
    "id": "mLJMKohegfjq"
   },
   "outputs": [],
   "source": [
    "data = data[[\"Title\", \"Plot\"]]"
   ]
  },
  {
   "cell_type": "code",
   "execution_count": 12,
   "metadata": {
    "id": "u6tjStzigfjs"
   },
   "outputs": [
    {
     "data": {
      "text/html": [
       "<div>\n",
       "<style scoped>\n",
       "    .dataframe tbody tr th:only-of-type {\n",
       "        vertical-align: middle;\n",
       "    }\n",
       "\n",
       "    .dataframe tbody tr th {\n",
       "        vertical-align: top;\n",
       "    }\n",
       "\n",
       "    .dataframe thead th {\n",
       "        text-align: right;\n",
       "    }\n",
       "</style>\n",
       "<table border=\"1\" class=\"dataframe\">\n",
       "  <thead>\n",
       "    <tr style=\"text-align: right;\">\n",
       "      <th></th>\n",
       "      <th>Title</th>\n",
       "      <th>Plot</th>\n",
       "    </tr>\n",
       "  </thead>\n",
       "  <tbody>\n",
       "    <tr>\n",
       "      <th>6</th>\n",
       "      <td>The Great Train Robbery</td>\n",
       "      <td>The film opens with two bandits breaking into ...</td>\n",
       "    </tr>\n",
       "    <tr>\n",
       "      <th>7</th>\n",
       "      <td>The Suburbanite</td>\n",
       "      <td>The film is about a family who move to the sub...</td>\n",
       "    </tr>\n",
       "    <tr>\n",
       "      <th>10</th>\n",
       "      <td>Dream of a Rarebit Fiend</td>\n",
       "      <td>The Rarebit Fiend gorges on Welsh rarebit at a...</td>\n",
       "    </tr>\n",
       "    <tr>\n",
       "      <th>11</th>\n",
       "      <td>From Leadville to Aspen: A Hold-Up in the Rockies</td>\n",
       "      <td>The film features a train traveling through th...</td>\n",
       "    </tr>\n",
       "    <tr>\n",
       "      <th>12</th>\n",
       "      <td>Kathleen Mavourneen</td>\n",
       "      <td>Irish villager Kathleen is a tenant of Captain...</td>\n",
       "    </tr>\n",
       "    <tr>\n",
       "      <th>...</th>\n",
       "      <td>...</td>\n",
       "      <td>...</td>\n",
       "    </tr>\n",
       "    <tr>\n",
       "      <th>21516</th>\n",
       "      <td>One by One</td>\n",
       "      <td>A cafe worker is violently jolted from her day...</td>\n",
       "    </tr>\n",
       "    <tr>\n",
       "      <th>21517</th>\n",
       "      <td>The President</td>\n",
       "      <td>A revolution is happening in a country with a ...</td>\n",
       "    </tr>\n",
       "    <tr>\n",
       "      <th>21518</th>\n",
       "      <td>Star Wars: The Force Unleashed II</td>\n",
       "      <td>The game takes place approximately six months ...</td>\n",
       "    </tr>\n",
       "    <tr>\n",
       "      <th>21519</th>\n",
       "      <td>We Still Kill the Old Way (2014 film)</td>\n",
       "      <td>A retired East End gangster, Ritchie Archer, r...</td>\n",
       "    </tr>\n",
       "    <tr>\n",
       "      <th>21520</th>\n",
       "      <td>What Goes Up</td>\n",
       "      <td>Upon arriving in Concord, New Hampshire in Jan...</td>\n",
       "    </tr>\n",
       "  </tbody>\n",
       "</table>\n",
       "<p>20046 rows × 2 columns</p>\n",
       "</div>"
      ],
      "text/plain": [
       "                                                   Title  \\\n",
       "6                                The Great Train Robbery   \n",
       "7                                        The Suburbanite   \n",
       "10                              Dream of a Rarebit Fiend   \n",
       "11     From Leadville to Aspen: A Hold-Up in the Rockies   \n",
       "12                                   Kathleen Mavourneen   \n",
       "...                                                  ...   \n",
       "21516                                         One by One   \n",
       "21517                                      The President   \n",
       "21518                  Star Wars: The Force Unleashed II   \n",
       "21519              We Still Kill the Old Way (2014 film)   \n",
       "21520                                       What Goes Up   \n",
       "\n",
       "                                                    Plot  \n",
       "6      The film opens with two bandits breaking into ...  \n",
       "7      The film is about a family who move to the sub...  \n",
       "10     The Rarebit Fiend gorges on Welsh rarebit at a...  \n",
       "11     The film features a train traveling through th...  \n",
       "12     Irish villager Kathleen is a tenant of Captain...  \n",
       "...                                                  ...  \n",
       "21516  A cafe worker is violently jolted from her day...  \n",
       "21517  A revolution is happening in a country with a ...  \n",
       "21518  The game takes place approximately six months ...  \n",
       "21519  A retired East End gangster, Ritchie Archer, r...  \n",
       "21520  Upon arriving in Concord, New Hampshire in Jan...  \n",
       "\n",
       "[20046 rows x 2 columns]"
      ]
     },
     "execution_count": 12,
     "metadata": {},
     "output_type": "execute_result"
    }
   ],
   "source": [
    "data"
   ]
  },
  {
   "cell_type": "code",
   "execution_count": 13,
   "metadata": {
    "id": "jFUOpowsgfjv"
   },
   "outputs": [
    {
     "data": {
      "text/plain": [
       "\"The film opens with two bandits breaking into a railroad telegraph office, where they force the operator at gunpoint to have a train stopped and to transmit orders for the engineer to fill the locomotive's tender at the station's water tank. They then knock the operator out and tie him up. As the train stops it is boarded by the bandits\\u200d—\\u200cnow four. Two bandits enter an express car, kill a messenger and open a box of valuables with dynamite; the others kill the fireman and force the engineer to halt the train and disconnect the locomotive. The bandits then force the passengers off the train and rifle them for their belongings. One passenger tries to escape but is instantly shot down. Carrying their loot, the bandits escape in the locomotive, later stopping in a valley where their horses had been left.\\r\\nMeanwhile, back in the telegraph office, the bound operator awakens, but he collapses again. His daughter arrives bringing him his meal and cuts him free, and restores him to consciousness by dousing him with water.\\r\\nThere is some comic relief at a dance hall, where an Eastern stranger is forced to dance while the locals fire at his feet. The door suddenly opens and the telegraph operator rushes in to tell them of the robbery. The men quickly form a posse, which overtakes the bandits, and in a final shootout kills them all and recovers the stolen mail.\""
      ]
     },
     "execution_count": 13,
     "metadata": {},
     "output_type": "execute_result"
    }
   ],
   "source": [
    "data.iloc[0,-1]"
   ]
  },
  {
   "cell_type": "code",
   "execution_count": 14,
   "metadata": {
    "id": "-wfod3ycgfjy"
   },
   "outputs": [
    {
     "name": "stderr",
     "output_type": "stream",
     "text": [
      "[nltk_data] Downloading package punkt to\n",
      "[nltk_data]     C:\\Users\\DeLL\\AppData\\Roaming\\nltk_data...\n",
      "[nltk_data]   Package punkt is already up-to-date!\n",
      "[nltk_data] Downloading package averaged_perceptron_tagger to\n",
      "[nltk_data]     C:\\Users\\DeLL\\AppData\\Roaming\\nltk_data...\n",
      "[nltk_data]   Package averaged_perceptron_tagger is already up-to-\n",
      "[nltk_data]       date!\n",
      "[nltk_data] Downloading package wordnet to\n",
      "[nltk_data]     C:\\Users\\DeLL\\AppData\\Roaming\\nltk_data...\n",
      "[nltk_data]   Package wordnet is already up-to-date!\n",
      "[nltk_data] Downloading package stopwords to\n",
      "[nltk_data]     C:\\Users\\DeLL\\AppData\\Roaming\\nltk_data...\n",
      "[nltk_data]   Package stopwords is already up-to-date!\n"
     ]
    }
   ],
   "source": [
    "import nltk \n",
    "nltk.download('punkt') \n",
    "nltk.download('averaged_perceptron_tagger') \n",
    "nltk.download('wordnet') \n",
    "\n",
    "\n",
    "from nltk.corpus import stopwords \n",
    "nltk.download('stopwords') \n",
    "stop_words = set(stopwords.words('english')) \n",
    "\n",
    "VERB_CODES = {'VB', 'VBD', 'VBG', 'VBN', 'VBP', 'VBZ'} \n"
   ]
  },
  {
   "cell_type": "code",
   "execution_count": 15,
   "metadata": {
    "id": "NmGDUcDQgfj2"
   },
   "outputs": [],
   "source": [
    "from nltk.stem import WordNetLemmatizer \n",
    "lemmatizer = WordNetLemmatizer() "
   ]
  },
  {
   "cell_type": "code",
   "execution_count": null,
   "metadata": {
    "id": "28dZsLICgfj_"
   },
   "outputs": [],
   "source": [
    "def preprocess_sentences(text): \n",
    "    text = text.lower() \n",
    "    temp_sent =[] \n",
    "    words = nltk.word_tokenize(text) \n",
    "    tags = nltk.pos_tag(words) \n",
    "    for i, word in enumerate(words): \n",
    "        if tags[i][1] in VERB_CODES: \n",
    "            lemmatized = lemmatizer.lemmatize(word, 'v') \n",
    "        else: \n",
    "            lemmatized = lemmatizer.lemmatize(word) \n",
    "        if lemmatized not in stop_words and lemmatized.isalpha(): \n",
    "            temp_sent.append(lemmatized) \n",
    "\t\t\n",
    "    finalsent = ' '.join(temp_sent) \n",
    "    finalsent = finalsent.replace(\"n't\", \" not\") \n",
    "    finalsent = finalsent.replace(\"'m\", \" am\") \n",
    "    finalsent = finalsent.replace(\"'s\", \" is\") \n",
    "    finalsent = finalsent.replace(\"'re\", \" are\") \n",
    "    finalsent = finalsent.replace(\"'ll\", \" will\") \n",
    "    finalsent = finalsent.replace(\"'ve\", \" have\") \n",
    "    finalsent = finalsent.replace(\"'d\", \" would\") \n",
    "    return finalsent \n",
    "\n",
    "data[\"plot_processed\"]= data[\"Plot\"].apply(preprocess_sentences) \n",
    "data.head() \n"
   ]
  },
  {
   "cell_type": "code",
   "execution_count": null,
   "metadata": {
    "id": "aL924JCxgfkD"
   },
   "outputs": [],
   "source": []
  }
 ],
 "metadata": {
  "colab": {
   "name": "Data_preprocessed.ipynb",
   "provenance": [],
   "toc_visible": true
  },
  "kernelspec": {
   "display_name": "Python 3",
   "language": "python",
   "name": "python3"
  },
  "language_info": {
   "codemirror_mode": {
    "name": "ipython",
    "version": 3
   },
   "file_extension": ".py",
   "mimetype": "text/x-python",
   "name": "python",
   "nbconvert_exporter": "python",
   "pygments_lexer": "ipython3",
   "version": "3.7.6"
  }
 },
 "nbformat": 4,
 "nbformat_minor": 1
}
